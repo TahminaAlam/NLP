{
  "nbformat": 4,
  "nbformat_minor": 0,
  "metadata": {
    "colab": {
      "provenance": []
    },
    "kernelspec": {
      "name": "python3",
      "display_name": "Python 3"
    },
    "language_info": {
      "name": "python"
    }
  },
  "cells": [
    {
      "cell_type": "code",
      "execution_count": null,
      "metadata": {
        "colab": {
          "base_uri": "https://localhost:8080/"
        },
        "id": "StXM1KUkKepp",
        "outputId": "3e635c59-a360-4bc3-b6da-6b44bcac29ac"
      },
      "outputs": [
        {
          "name": "stdout",
          "output_type": "stream",
          "text": [
            "Enter the source string: intersion\n",
            "Enter the target string: execution\n"
          ]
        }
      ],
      "source": [
        "actual_source = input(\"Enter the source string: \")\n",
        "actual_target = input(\"Enter the target string: \")\n"
      ]
    },
    {
      "cell_type": "code",
      "source": [
        "insertion_cost = 1\n",
        "deletion_cost = 1\n",
        "substitution_cost = 2\n",
        "\n",
        "source = actual_source.lower()\n",
        "target = actual_target.lower()\n",
        "\n",
        "source_length, target_length = len(source), len(target)\n",
        "edit_distance_matrix = [[0] * (target_length + 1) for _ in range(source_length + 1)]\n",
        "\n",
        "for i in range(source_length + 1):\n",
        "    for j in range(target_length + 1):\n",
        "        if i == 0:\n",
        "            edit_distance_matrix[i][j] = j * insertion_cost\n",
        "        elif j == 0:\n",
        "            edit_distance_matrix[i][j] = i * deletion_cost\n",
        "        elif source[i - 1] == target[j - 1]:\n",
        "            edit_distance_matrix[i][j] = edit_distance_matrix[i - 1][j - 1]\n",
        "        else:\n",
        "            edit_distance_matrix[i][j] = min(\n",
        "                edit_distance_matrix[i - 1][j] + deletion_cost,\n",
        "                edit_distance_matrix[i][j - 1] + insertion_cost,\n",
        "                edit_distance_matrix[i - 1][j - 1] + substitution_cost\n",
        "            )\n",
        "\n",
        "# Print the matrix\n",
        "print(\"\\n    # \", end=\" \")\n",
        "for char in actual_target:\n",
        "    print(f\"{char:2}\", end=\" \")\n",
        "print()\n",
        "\n",
        "for i in range(source_length + 1):\n",
        "    if i == 0:\n",
        "        print(\"# \", end=\" \")\n",
        "    else:\n",
        "        print(f\"{actual_source[i - 1]:2}\", end=\" \")\n",
        "    for j in range(target_length + 1):\n",
        "        print(f\"{edit_distance_matrix[i][j]:2}\", end=\" \")\n",
        "    print()\n",
        "\n",
        "distance = edit_distance_matrix[source_length][target_length]\n",
        "print(f\"\\nMinimum Edit Distance between '{source}' and '{target}' is {distance}\")"
      ],
      "metadata": {
        "colab": {
          "base_uri": "https://localhost:8080/"
        },
        "id": "KICMXKJ2Ko-5",
        "outputId": "44f12427-fc1a-43c2-a717-536daad406e5"
      },
      "execution_count": null,
      "outputs": [
        {
          "output_type": "stream",
          "name": "stdout",
          "text": [
            "\n",
            "    #  e  x  e  c  u  t  i  o  n  \n",
            "#   0  1  2  3  4  5  6  7  8  9 \n",
            "i   1  2  3  4  5  6  7  6  7  8 \n",
            "n   2  3  4  5  6  7  8  7  8  7 \n",
            "t   3  4  5  6  7  8  7  8  9  8 \n",
            "e   4  3  4  5  6  7  8  9 10  9 \n",
            "r   5  4  5  6  7  8  9 10 11 10 \n",
            "s   6  5  6  7  8  9 10 11 12 11 \n",
            "i   7  6  7  8  9 10 11 10 11 12 \n",
            "o   8  7  8  9 10 11 12 11 10 11 \n",
            "n   9  8  9 10 11 12 13 12 11 10 \n",
            "\n",
            "Minimum Edit Distance between 'intersion' and 'execution' is 10\n"
          ]
        }
      ]
    }
  ]
}