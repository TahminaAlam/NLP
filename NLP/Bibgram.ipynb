{
  "nbformat": 4,
  "nbformat_minor": 0,
  "metadata": {
    "colab": {
      "provenance": []
    },
    "kernelspec": {
      "name": "python3",
      "display_name": "Python 3"
    },
    "language_info": {
      "name": "python"
    }
  },
  "cells": [
    {
      "cell_type": "code",
      "execution_count": null,
      "metadata": {
        "id": "dAPWB-01Nd9O"
      },
      "outputs": [],
      "source": [
        "from collections import defaultdict\n",
        "import re\n",
        "\n",
        "# Input string\n",
        "input_string = \"\"\"\n",
        "A young girl joyfully plays with her beloved cat, creating a heartwarming and delightful scene. Their playful interaction showcases a special bond between them, filled with love and innocence. Laughter and happiness fill the air as the girl and her feline companion enjoy their cherished moments together.\n",
        "\"\"\"\n"
      ]
    },
    {
      "cell_type": "code",
      "source": [
        "word_count_map = {}         # Dictionary to store word occurrences\n",
        "bigram_probabilities = {}   # Dictionary to store bigram probabilities\n",
        "\n",
        "# Tokenize the input string and convert to lowercase\n",
        "sentences = re.split(r'[.!?]', input_string)\n",
        "tokens = [re.sub(r'[^\\w\\s]', '', sentence).lower().split() for sentence in sentences]\n",
        "\n",
        "# Count word occurrences and store in word_count_map\n",
        "for sentence_tokens in tokens:\n",
        "  for i, word in enumerate(sentence_tokens):\n",
        "      word_count_map.setdefault(word, []).append(i)\n",
        "\n",
        "# Iterate through tokens to generate bigrams and calculate probabilities\n",
        "for sentence_tokens in tokens:\n",
        "  for i in range(len(sentence_tokens) - 1):\n",
        "      current_word, next_word = sentence_tokens[i], sentence_tokens[i + 1]\n",
        "\n",
        "      indices_previous = word_count_map.get(current_word, [])\n",
        "      indices_next = word_count_map.get(next_word, [])\n",
        "\n",
        "      if indices_previous and indices_next:\n",
        "          # Count matching occurrences of next_word following current_word\n",
        "          matching_occurrences = sum(1 for index in indices_previous if index + 1 in indices_next)\n",
        "          # Calculate probability as the ratio of matching occurrences to total occurrences of current_word\n",
        "          probability = matching_occurrences / len(indices_previous)\n",
        "          bigram_probabilities[(current_word, next_word)] = probability"
      ],
      "metadata": {
        "id": "bOta86AkNl0j"
      },
      "execution_count": null,
      "outputs": []
    },
    {
      "cell_type": "code",
      "source": [
        "# Print the probabilities for each bigram\n",
        "for bigram, probability in bigram_probabilities.items():\n",
        "    previous, next_word = bigram\n",
        "    print(f\"P({next_word} | {previous}) = {probability:.3f}\")"
      ],
      "metadata": {
        "colab": {
          "base_uri": "https://localhost:8080/"
        },
        "id": "_ezBOQalN91p",
        "outputId": "352e4dc4-8027-4158-c459-8139e42c20bd"
      },
      "execution_count": null,
      "outputs": [
        {
          "output_type": "stream",
          "name": "stdout",
          "text": [
            "P(young | a) = 0.333\n",
            "P(girl | young) = 1.000\n",
            "P(joyfully | girl) = 0.500\n",
            "P(plays | joyfully) = 1.000\n",
            "P(with | plays) = 1.000\n",
            "P(her | with) = 0.500\n",
            "P(beloved | her) = 0.500\n",
            "P(cat | beloved) = 1.000\n",
            "P(creating | cat) = 1.000\n",
            "P(a | creating) = 1.000\n",
            "P(heartwarming | a) = 0.333\n",
            "P(and | heartwarming) = 1.000\n",
            "P(delightful | and) = 0.500\n",
            "P(scene | delightful) = 1.000\n",
            "P(playful | their) = 0.500\n",
            "P(interaction | playful) = 1.000\n",
            "P(showcases | interaction) = 1.000\n",
            "P(a | showcases) = 1.000\n",
            "P(special | a) = 0.333\n",
            "P(bond | special) = 1.000\n",
            "P(between | bond) = 1.000\n",
            "P(them | between) = 1.000\n",
            "P(filled | them) = 1.000\n",
            "P(with | filled) = 1.000\n",
            "P(love | with) = 0.500\n",
            "P(and | love) = 1.000\n",
            "P(innocence | and) = 0.500\n",
            "P(and | laughter) = 1.000\n",
            "P(happiness | and) = 0.250\n",
            "P(fill | happiness) = 1.000\n",
            "P(the | fill) = 1.000\n",
            "P(air | the) = 0.500\n",
            "P(as | air) = 1.000\n",
            "P(the | as) = 1.000\n",
            "P(girl | the) = 0.500\n",
            "P(and | girl) = 0.500\n",
            "P(her | and) = 0.250\n",
            "P(feline | her) = 0.500\n",
            "P(companion | feline) = 1.000\n",
            "P(enjoy | companion) = 1.000\n",
            "P(their | enjoy) = 1.000\n",
            "P(cherished | their) = 0.500\n",
            "P(moments | cherished) = 1.000\n",
            "P(together | moments) = 1.000\n"
          ]
        }
      ]
    }
  ]
}