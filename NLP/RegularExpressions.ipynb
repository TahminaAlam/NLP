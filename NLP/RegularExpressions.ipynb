{
  "nbformat": 4,
  "nbformat_minor": 0,
  "metadata": {
    "colab": {
      "provenance": []
    },
    "kernelspec": {
      "name": "python3",
      "display_name": "Python 3"
    },
    "language_info": {
      "name": "python"
    }
  },
  "cells": [
    {
      "cell_type": "code",
      "source": [
        "import re"
      ],
      "metadata": {
        "id": "bHWVkORYsBFk"
      },
      "execution_count": 25,
      "outputs": []
    },
    {
      "cell_type": "code",
      "source": [
        "# Define a regular expression pattern to match individual disease-related words\n",
        "# Modify the pattern to include specific disease-related words as needed\n",
        "\n",
        "pattern = r'\\b(StripRust|SeptoriaDisease|viruses|Bacteria|Fungi)\\b'"
      ],
      "metadata": {
        "id": "K8oNlmbbsGOK"
      },
      "execution_count": 26,
      "outputs": []
    },
    {
      "cell_type": "code",
      "source": [
        "# Read the dataset from a file (replace 'dataset.txt' with your file path)\n",
        "\n",
        "with open('dataset.txt', 'r') as file:\n",
        "\n",
        "    text_dataset = file.read()"
      ],
      "metadata": {
        "id": "R3y6O3ccsKx5"
      },
      "execution_count": 27,
      "outputs": []
    },
    {
      "cell_type": "code",
      "source": [
        "# Split the text dataset into individual words\n",
        "\n",
        "words = re.findall(r'\\b\\w+\\b', text_dataset)"
      ],
      "metadata": {
        "id": "liQbUanvsNQb"
      },
      "execution_count": 28,
      "outputs": []
    },
    {
      "cell_type": "code",
      "source": [
        "# Initialize a list to store individual disease-related words\n",
        "\n",
        "disease_words = []"
      ],
      "metadata": {
        "id": "84cLw2D6sQpJ"
      },
      "execution_count": 29,
      "outputs": []
    },
    {
      "cell_type": "code",
      "source": [
        "# Iterate through the words and find individual disease-related words\n",
        "\n",
        "for word in words:\n",
        "\n",
        "    if re.match(pattern, word, flags=re.IGNORECASE):\n",
        "\n",
        "        disease_words.append(word)"
      ],
      "metadata": {
        "id": "7GFhGliTsUPy"
      },
      "execution_count": 30,
      "outputs": []
    },
    {
      "cell_type": "code",
      "source": [
        "# Print the individual disease-related words\n",
        "\n",
        "print(\"Individual Disease Words:\")\n",
        "\n",
        "for word in disease_words:\n",
        "\n",
        "    print(word)"
      ],
      "metadata": {
        "colab": {
          "base_uri": "https://localhost:8080/"
        },
        "id": "90qaZ_SMsXRs",
        "outputId": "46b39c4b-08a3-45ad-9b42-9c259e33e6be"
      },
      "execution_count": 31,
      "outputs": [
        {
          "output_type": "stream",
          "name": "stdout",
          "text": [
            "Individual Disease Words:\n",
            "viruses\n",
            "Bacteria\n",
            "Fungi\n",
            "SeptoriaDisease\n",
            "SeptoriaDisease\n",
            "StripRust\n",
            "SeptoriaDisease\n",
            "SeptoriaDisease\n",
            "StripRust\n",
            "SeptoriaDisease\n",
            "SeptoriaDisease\n"
          ]
        }
      ]
    }
  ]
}